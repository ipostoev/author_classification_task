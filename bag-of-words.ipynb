{
 "cells": [
  {
   "cell_type": "code",
   "execution_count": 230,
   "id": "fbb981c0",
   "metadata": {},
   "outputs": [],
   "source": [
    "import torch\n",
    "import numpy as np\n",
    "from razdel import tokenize\n",
    "from torchtext.data.utils import get_tokenizer"
   ]
  },
  {
   "cell_type": "markdown",
   "id": "259daef5",
   "metadata": {},
   "source": [
    "# create dataframe"
   ]
  },
  {
   "cell_type": "code",
   "execution_count": 231,
   "id": "89337085-fc13-4a40-b911-90dab39d5184",
   "metadata": {},
   "outputs": [],
   "source": [
    "import os\n",
    "from razdel import sentenize\n",
    "from data_helpers import *\n",
    "path_to_raw_data = os.getcwd() + \"/data/\"\n",
    "path_to_sources = os.getcwd() + \"/sources/\"\n",
    "\n",
    "bulgakov_text = get_raw_text_from_dir(path_to_raw_data + \"bulgakov/\")\n",
    "gogol_text = get_raw_text_from_dir(path_to_raw_data + \"gogol/\")\n",
    "bul_sentences = filter_and_sentenize(bulgakov_text, sentenize)\n",
    "gog_sentences = filter_and_sentenize(gogol_text, sentenize)\n",
    "bul_df = create_datadarame(bul_sentences, 0)\n",
    "gog_df = create_datadarame(gog_sentences, 1)\n",
    "\n",
    "bul_df.to_csv(path_to_sources + \"bul_df.csv\")\n",
    "gog_df.to_csv(path_to_sources + \"gog_df.csv\")"
   ]
  },
  {
   "cell_type": "markdown",
   "id": "ee45113d-e146-4e7e-b640-86d7eb7dbe82",
   "metadata": {},
   "source": [
    "# create train/test items"
   ]
  },
  {
   "cell_type": "code",
   "execution_count": 232,
   "id": "c101372e",
   "metadata": {},
   "outputs": [],
   "source": [
    "import os\n",
    "import pandas as pd\n",
    "from data_helpers import *\n",
    "path_to_sources = os.getcwd() + \"/sources/\"\n",
    "bul_df = pd.read_csv(path_to_sources + \"bul_df.csv\")\n",
    "gog_df= pd.read_csv(path_to_sources + \"gog_df.csv\")\n",
    "bul_df = bul_df[[\"sentence\", \"label\"]]\n",
    "gog_df = gog_df[[\"sentence\", \"label\"]]\n",
    "bul_df = bul_df.iloc[:int(len(bul_df) * 0.6)]\n",
    "\n",
    "merged_df = pd.merge(bul_df, gog_df, how='outer')\n",
    "merged_df = merged_df.sample(frac=1)\n",
    "all_items = merged_df.values\n",
    "\n",
    "train_items, val_items, test_items = train_val_sliced(all_items, 0.8, 0.1)"
   ]
  },
  {
   "cell_type": "code",
   "execution_count": 233,
   "id": "f117bc48-74aa-4cdb-9c29-2f38a589274a",
   "metadata": {},
   "outputs": [
    {
     "data": {
      "text/plain": [
       "13029"
      ]
     },
     "execution_count": 233,
     "metadata": {},
     "output_type": "execute_result"
    }
   ],
   "source": [
    "len(train_items)"
   ]
  },
  {
   "cell_type": "markdown",
   "id": "008b0970",
   "metadata": {},
   "source": [
    "<h2>text processing pipelines</h2>"
   ]
  },
  {
   "cell_type": "code",
   "execution_count": 234,
   "id": "4cf62074",
   "metadata": {},
   "outputs": [],
   "source": [
    "from nltk.corpus import stopwords\n",
    "from pymystem3 import Mystem\n",
    "from string import punctuation\n",
    "import pymorphy2\n",
    "\n",
    "mystem = Mystem() \n",
    "russian_stopwords = stopwords.words(\"russian\")\n",
    "morph = pymorphy2.MorphAnalyzer()\n",
    "\n",
    "def ntlk_preprocess_text(text):\n",
    "    tokens = mystem.lemmatize(text.lower())\n",
    "    tokens = [token.replace('\\n', ' ').replace(' ', '') for token in tokens]\n",
    "    tokens = [token for token in tokens if len(token) > 0]\n",
    "              #and token not in russian_stopwords\n",
    "              #and token != \" \"]\n",
    "              #and token.strip() not in punctuation]\n",
    "    \n",
    "    return tokens\n",
    "\n",
    "def cut_sentence(substrings, min_length, max_length):\n",
    "    return [t for t in substrings if len(t) > min_length and len(t) < max_length]\n",
    "\n",
    "def normalize(sentence, tokenizer, min_length=0, max_length=float(\"inf\")):\n",
    "    tokenized = list(tokenizer(sentence))\n",
    "    tokenized = [morph.parse(t.text)[0].normal_form for t in tokenized]\n",
    "    tokenized = cut_sentence(tokenized, min_length, max_length)\n",
    "    return tokenized"
   ]
  },
  {
   "cell_type": "code",
   "execution_count": 235,
   "id": "e3c9aa7f",
   "metadata": {
    "tags": []
   },
   "outputs": [],
   "source": [
    "from collections import Counter, OrderedDict\n",
    "sentences = [item[0] for item in np.concatenate((train_items,val_items))]\n",
    "sentences_by_tokens = [[w for w in ntlk_preprocess_text(s)] for s in sentences]\n",
    "tokens = sum(sentences_by_tokens, [])\n",
    "counter = Counter(tokens)"
   ]
  },
  {
   "cell_type": "code",
   "execution_count": 236,
   "id": "8ffa2932-ca89-44ba-bb0d-36e0bda02bf5",
   "metadata": {},
   "outputs": [],
   "source": [
    "from torchtext.vocab import vocab\n",
    "import math \n",
    "#pick tokens for vocabulary\n",
    "vocab_size = 3000\n",
    "most_common_tokens = counter.most_common(vocab_size)[200:]\n",
    "sentence_idf_count = 10000"
   ]
  },
  {
   "cell_type": "code",
   "execution_count": 237,
   "id": "a1b2fe11-77c7-486d-8e06-af43d3bfc030",
   "metadata": {},
   "outputs": [],
   "source": [
    "def make_tf_idf(token_count, doc_count):\n",
    "    tf = token_count / len(tokens)\n",
    "    if doc_count == 0:\n",
    "        return 1\n",
    "    df = math.log(sentence_idf_count / doc_count)\n",
    "    return (tf * df + 0.5)\n",
    "\n",
    "def make_tf(token_count):\n",
    "    return token_count / len(tokens)\n",
    "\n",
    "def get_count(token):\n",
    "    return len([_ for sentence in tokens[:sentence_idf_count] if token in sentence])    "
   ]
  },
  {
   "cell_type": "code",
   "execution_count": 238,
   "id": "ac52cd63-537a-4fcb-843e-cb2b034a6a87",
   "metadata": {},
   "outputs": [],
   "source": [
    "#mapping from token to value in bow vector\n",
    "#token_to_value_tfidf = dict([(token, make_tf_idf(counter[token],get_count(token))) for (token, count) in most_common_tokens])\n",
    "token_to_value_tf = dict([(token, 1) for (token, count) in most_common_tokens])\n",
    "#create vocabulary\n",
    "bow_vocab = vocab(OrderedDict(most_common_tokens), specials=[\"<unk>\"])\n",
    "bow_vocab.set_default_index(bow_vocab[\"<unk>\"])"
   ]
  },
  {
   "cell_type": "code",
   "execution_count": 239,
   "id": "c2233123-3873-4726-b878-1ca9eb366629",
   "metadata": {},
   "outputs": [],
   "source": [
    "import torch\n",
    "import numpy as np\n",
    "from torch.utils.data import Dataset\n",
    "\n",
    "class BowTextDataset(Dataset):\n",
    "    \n",
    "    def __init__(self, items, vocabulary, token_to_value, tokenizer):\n",
    "        self.items = items\n",
    "        self.tokenizer = tokenizer\n",
    "        self.vocabulary = vocabulary\n",
    "        self.token_to_value = token_to_value\n",
    "        self.device = torch.device(\"cuda\" if torch.cuda.is_available() else \"cpu\")\n",
    "\n",
    "    def __len__(self):\n",
    "        return len(self.items)\n",
    "\n",
    "    def __getitem__(self, idx):\n",
    "        batch = self.items[idx]\n",
    "        text_list = []\n",
    "        label_list = []\n",
    "        #for (_text, _label) in batch:\n",
    "        (_text, _label) = batch\n",
    "        processed_text = torch.tensor(self.bow_pipeline(_text), dtype=torch.float32)\n",
    "        text_list.append(processed_text)\n",
    "        text_list = torch.stack(text_list).sum(1) \n",
    "        label_list.append(_label)\n",
    "        label_list = torch.tensor(label_list, dtype=torch.int64)\n",
    "        return processed_text.to(self.device), label_list.to(self.device)\n",
    "\n",
    "    def bow_pipeline(self, sentence):\n",
    "        token_idx_to_value = []\n",
    "        for token in self.tokenizer(sentence):\n",
    "            if token in self.token_to_value.keys():\n",
    "                token_idx_to_value.append((self.vocabulary[token], self.token_to_value[token]))\n",
    "        indeces = [item[0] for item in token_idx_to_value]\n",
    "        values = [item[1] for item in token_idx_to_value]\n",
    "        bow_vector = np.zeros((1,len(self.vocabulary)))\n",
    "        bow_vector[0][indeces] = values\n",
    "        return bow_vector\n",
    "    \n",
    "#create dataset\n",
    "train_ds = BowTextDataset(train_items, bow_vocab, token_to_value_tf, ntlk_preprocess_text)\n",
    "val_ds = BowTextDataset(val_items, bow_vocab, token_to_value_tf, ntlk_preprocess_text)"
   ]
  },
  {
   "cell_type": "markdown",
   "id": "d3feac88",
   "metadata": {},
   "source": [
    "# models"
   ]
  },
  {
   "cell_type": "code",
   "execution_count": 170,
   "id": "c4c281a3",
   "metadata": {},
   "outputs": [],
   "source": [
    "import torch.nn as nn\n",
    "\n",
    "class TextClassificationModel(nn.Module):\n",
    "\n",
    "    def __init__(self, embed_dim, num_class):\n",
    "        super(TextClassificationModel, self).__init__()\n",
    "        self.fc = nn.Linear(embed_dim, num_class)\n",
    "        self.init_weights()\n",
    "\n",
    "    def init_weights(self):\n",
    "        initrange = 0.5\n",
    "        self.fc.weight.data.uniform_(-initrange, initrange)\n",
    "        self.fc.bias.data.zero_()\n",
    "\n",
    "    def forward(self, text_bow):\n",
    "        return self.fc(text_bow)"
   ]
  },
  {
   "cell_type": "code",
   "execution_count": 171,
   "id": "9b4a8895",
   "metadata": {},
   "outputs": [],
   "source": [
    "import torch.nn as nn\n",
    "class TextClassificationModel2Layer(nn.Module):\n",
    "\n",
    "    def __init__(self, embed_dim, num_class):\n",
    "        super(TextClassificationModel2Layer, self).__init__()\n",
    "        self.fc1 = nn.Linear(embed_dim, 10000)\n",
    "        self.relu = nn.ReLU()\n",
    "        self.fc2 = nn.Linear(10000, num_class)\n",
    "        self.init_weights()\n",
    "\n",
    "    def init_weights(self):\n",
    "        initrange = 0.5\n",
    "        self.fc1.weight.data.uniform_(-initrange, initrange)\n",
    "        self.fc1.bias.data.zero_()\n",
    "        self.fc2.weight.data.uniform_(-initrange, initrange)\n",
    "        self.fc2.bias.data.zero_()\n",
    "\n",
    "    def forward(self, text_bow):\n",
    "        fc1_out = self.fc1(text_bow)\n",
    "        relu_out = self.relu(fc1_out)\n",
    "        return self.fc2(relu_out)"
   ]
  },
  {
   "cell_type": "markdown",
   "id": "0e04ec18",
   "metadata": {},
   "source": [
    "# train"
   ]
  },
  {
   "cell_type": "code",
   "execution_count": 240,
   "id": "fd47c93a",
   "metadata": {},
   "outputs": [],
   "source": [
    "def train(dataloader):\n",
    "    model.train()\n",
    "    total_acc, total_count = 0, 0\n",
    "    log_interval = 500\n",
    "    start_time = time.time()\n",
    "\n",
    "    for idx, (text, label) in enumerate(dataloader):\n",
    "        optimizer.zero_grad()\n",
    "        predicted_label = model(text).sum(1)\n",
    "        label = label.sum(1)\n",
    "        loss = criterion(predicted_label, label)\n",
    "        loss.backward()\n",
    "        torch.nn.utils.clip_grad_norm_(model.parameters(), 0.1)\n",
    "        optimizer.step()\n",
    "        total_acc += (predicted_label.argmax(1) == label).sum().item()\n",
    "        total_count += label.size(0)\n",
    "        if idx % log_interval == 0 and idx > 0:\n",
    "            elapsed = time.time() - start_time\n",
    "            #print('| epoch {:3d} | {:5d}/{:5d} batches '\n",
    "            #      '| accuracy {:8.3f}'.format(epoch, idx, len(dataloader),\n",
    "            #                                  total_acc/total_count))\n",
    "            total_acc, total_count = 0, 0\n",
    "            start_time = time.time()\n",
    "            \n",
    "\n",
    "def evaluate(dataloader):\n",
    "    model.eval()\n",
    "    total_acc, total_count = 0, 0\n",
    "\n",
    "    with torch.no_grad():\n",
    "        for idx, (text, label) in enumerate(dataloader):\n",
    "            predicted_label = model(text).sum(1)\n",
    "            label = label.sum(1)\n",
    "            loss = criterion(predicted_label, label)\n",
    "            total_acc += (predicted_label.argmax(1) == label).sum().item()\n",
    "            total_count += label.size(0)\n",
    "    return total_acc/total_count"
   ]
  },
  {
   "cell_type": "code",
   "execution_count": 241,
   "id": "4ac7d949-ef9a-419f-ae43-cef5d0e1c619",
   "metadata": {},
   "outputs": [
    {
     "name": "stdout",
     "output_type": "stream",
     "text": [
      "-----------------------------------------------------------\n",
      "| end of epoch   1 | time:  6.76s | valid accuracy    0.819 \n",
      "-----------------------------------------------------------\n",
      "-----------------------------------------------------------\n",
      "| end of epoch   2 | time:  6.34s | valid accuracy    0.818 \n",
      "-----------------------------------------------------------\n",
      "-----------------------------------------------------------\n",
      "| end of epoch   3 | time:  6.34s | valid accuracy    0.843 \n",
      "-----------------------------------------------------------\n",
      "-----------------------------------------------------------\n",
      "| end of epoch   4 | time:  6.34s | valid accuracy    0.840 \n",
      "-----------------------------------------------------------\n",
      "-----------------------------------------------------------\n",
      "| end of epoch   5 | time:  7.21s | valid accuracy    0.840 \n",
      "-----------------------------------------------------------\n"
     ]
    }
   ],
   "source": [
    "from torch.utils.data import DataLoader\n",
    "import time\n",
    "# Hyperparameters\n",
    "BATCH_SIZE = 32\n",
    "EPOCHS = 5  # epoch\n",
    "LR = 5  # learning rate\n",
    "\n",
    "train_dataloader = DataLoader(train_ds, batch_size=BATCH_SIZE, shuffle=True)\n",
    "valid_dataloader = DataLoader(val_ds, batch_size=BATCH_SIZE, shuffle=True)\n",
    "model = TextClassificationModel(len(bow_vocab), 2)\n",
    "criterion = torch.nn.CrossEntropyLoss()\n",
    "optimizer = torch.optim.SGD(model.parameters(), lr=LR)\n",
    "scheduler = torch.optim.lr_scheduler.StepLR(optimizer, 1.0, gamma=0.1)\n",
    "\n",
    "total_accu = None\n",
    "for epoch in range(1, EPOCHS + 1):\n",
    "    epoch_start_time = time.time()\n",
    "    train(train_dataloader)\n",
    "    accu_val = evaluate(valid_dataloader)\n",
    "    if total_accu is not None and total_accu > accu_val:\n",
    "        scheduler.step()\n",
    "    else:\n",
    "        total_accu = accu_val\n",
    "    print('-' * 59)\n",
    "    print('| end of epoch {:3d} | time: {:5.2f}s | '\n",
    "          'valid accuracy {:8.3f} '.format(epoch,\n",
    "                                           time.time() - epoch_start_time,\n",
    "                                           accu_val))\n",
    "    print('-' * 59)"
   ]
  },
  {
   "cell_type": "code",
   "execution_count": 53,
   "id": "e8ac050a",
   "metadata": {},
   "outputs": [],
   "source": [
    "def reset_weights(m):\n",
    "    if isinstance(m, nn.Linear):\n",
    "        m.reset_parameters()"
   ]
  },
  {
   "cell_type": "code",
   "execution_count": 31,
   "id": "cb0943dd",
   "metadata": {
    "scrolled": true
   },
   "outputs": [],
   "source": [
    "from torch.utils.data.dataset import random_split\n",
    "from torchtext.data.functional import to_map_style_dataset\n",
    "from torch.utils.data import DataLoader\n",
    "from sklearn.model_selection import KFold\n",
    "import time"
   ]
  },
  {
   "cell_type": "code",
   "execution_count": 175,
   "id": "619a81b9",
   "metadata": {},
   "outputs": [
    {
     "name": "stdout",
     "output_type": "stream",
     "text": [
      "-------------------------fold 0-------------------------\n",
      "| end of epoch   1 | time:  9.75s | valid accuracy    0.800 \n",
      "-----------------------------------------------------------\n",
      "-------------------------fold 0-------------------------\n",
      "| end of epoch   2 | time:  9.52s | valid accuracy    0.795 \n",
      "-----------------------------------------------------------\n",
      "-------------------------fold 0-------------------------\n",
      "| end of epoch   3 | time:  9.55s | valid accuracy    0.838 \n",
      "-----------------------------------------------------------\n",
      "-------------------------fold 1-------------------------\n",
      "| end of epoch   1 | time:  9.51s | valid accuracy    0.807 \n",
      "-----------------------------------------------------------\n",
      "-------------------------fold 1-------------------------\n",
      "| end of epoch   2 | time:  9.52s | valid accuracy    0.811 \n",
      "-----------------------------------------------------------\n",
      "-------------------------fold 1-------------------------\n",
      "| end of epoch   3 | time:  9.71s | valid accuracy    0.810 \n",
      "-----------------------------------------------------------\n",
      "-------------------------fold 2-------------------------\n",
      "| end of epoch   1 | time: 10.04s | valid accuracy    0.818 \n",
      "-----------------------------------------------------------\n",
      "-------------------------fold 2-------------------------\n",
      "| end of epoch   2 | time: 10.03s | valid accuracy    0.818 \n",
      "-----------------------------------------------------------\n",
      "-------------------------fold 2-------------------------\n",
      "| end of epoch   3 | time: 10.12s | valid accuracy    0.820 \n",
      "-----------------------------------------------------------\n",
      "total accuracy 0.8298309178743962\n"
     ]
    }
   ],
   "source": [
    "#Kfold\n",
    "k_folds = 3\n",
    "BATCH_SIZE = 32\n",
    "EPOCHS = 3  # epoch\n",
    "LR = 5  # learning rate\n",
    "\n",
    "total_accu = None\n",
    "total_fold_accuarcy = 0\n",
    "\n",
    "kfold=KFold(n_splits=k_folds,shuffle=True)\n",
    "for fold,(train_idx,val_idx) in enumerate(kfold.split(train_items)):\n",
    "    train_dataloader = DataLoader(train_ds, batch_size=BATCH_SIZE, shuffle=True)\n",
    "    valid_dataloader = DataLoader(val_ds, batch_size=BATCH_SIZE, shuffle=True)\n",
    "    model = TextClassificationModel(len(bow_vocab), 2)\n",
    "    criterion = torch.nn.CrossEntropyLoss()\n",
    "    optimizer = torch.optim.SGD(model.parameters(), lr=LR)\n",
    "    scheduler = torch.optim.lr_scheduler.StepLR(optimizer, 1.0, gamma=0.1)\n",
    "    \n",
    "    for epoch in range(1, EPOCHS + 1):\n",
    "        epoch_start_time = time.time()\n",
    "        train(train_dataloader)\n",
    "        accu_val = evaluate(valid_dataloader)\n",
    "        if total_accu is not None and total_accu > accu_val:\n",
    "            scheduler.step()\n",
    "        else:\n",
    "            total_accu = accu_val\n",
    "        \n",
    "        total_fold_accuarcy += total_accu\n",
    "        print('-' * 25 + f\"fold {fold}\" + '-' * 25)\n",
    "        print('| end of epoch {:3d} | time: {:5.2f}s | '\n",
    "              'valid accuracy {:8.3f} '.format(epoch,\n",
    "                                               time.time() - epoch_start_time,\n",
    "                                               accu_val))\n",
    "        print('-' * 59)\n",
    "print(f\"total accuracy {total_fold_accuarcy / (k_folds * EPOCHS)}\") "
   ]
  },
  {
   "cell_type": "markdown",
   "id": "d6b7beeb-fcea-46b0-8611-ecf9bdbafb0a",
   "metadata": {},
   "source": [
    "# Evaluate "
   ]
  },
  {
   "cell_type": "code",
   "execution_count": 298,
   "id": "6dd627e7-433f-4c8c-ab32-d3e6eac1f222",
   "metadata": {},
   "outputs": [
    {
     "data": {
      "text/plain": [
       "364831"
      ]
     },
     "execution_count": 298,
     "metadata": {},
     "output_type": "execute_result"
    }
   ],
   "source": [
    "path_to_raw_data = os.getcwd() + \"/data/\"\n",
    "path_to_sources = os.getcwd() + \"/sources/\"\n",
    "\n",
    "bulgakov_text = get_raw_text_from(path_to_raw_data + \"subachie_serdtse.txt\")\n",
    "gogol_text1 = get_raw_text_from(path_to_raw_data + \"zapiski.txt\")\n",
    "gogol_text2 = get_raw_text_from(path_to_raw_data + \"revizor.txt\")\n",
    "gogol_text = \" \".join([gogol_text1])\n",
    "bul_sentences = filter_and_sentenize(bulgakov_text, sentenize)\n",
    "gog_sentences = filter_and_sentenize(gogol_text, sentenize)\n",
    "bul_df = create_datadarame(bul_sentences, 0)\n",
    "gog_df = create_datadarame(gog_sentences, 1)\n",
    "bul_df.to_csv(path_to_sources + \"bul_df_test.csv\")\n",
    "gog_df.to_csv(path_to_sources + \"gog_df_test.csv\")"
   ]
  },
  {
   "cell_type": "code",
   "execution_count": 300,
   "id": "20c0802a-0dc6-4d51-82c8-6ebc833abbcc",
   "metadata": {},
   "outputs": [],
   "source": [
    "bul_df_test = pd.read_csv(path_to_sources + \"bul_df_test.csv\")\n",
    "gog_df_test= pd.read_csv(path_to_sources + \"gog_df_test.csv\")\n",
    "bul_df_test = bul_df_test[[\"sentence\", \"label\"]]\n",
    "gog_df_test = gog_df_test[[\"sentence\", \"label\"]]\n",
    "merged_df_test = pd.merge(bul_df_test, gog_df_test, how='outer')\n",
    "merged_df_test = merged_df_test.sample(frac=1)\n",
    "test_items = merged_df_test.values"
   ]
  },
  {
   "cell_type": "code",
   "execution_count": 302,
   "id": "b6788ed1-a5c9-45e5-9649-ea891e1f4ac9",
   "metadata": {},
   "outputs": [
    {
     "data": {
      "text/plain": [
       "0.6449456975772765"
      ]
     },
     "execution_count": 302,
     "metadata": {},
     "output_type": "execute_result"
    }
   ],
   "source": [
    "BATCH_SIZE = 32\n",
    "test_ds = BowTextDataset(test_items, bow_vocab, token_to_value_tf, ntlk_preprocess_text)\n",
    "test_dataloader = DataLoader(test_ds, batch_size=BATCH_SIZE, shuffle=True)\n",
    "evaluate(test_dataloader)"
   ]
  },
  {
   "cell_type": "markdown",
   "id": "04d00cb8",
   "metadata": {},
   "source": [
    "<h2>Save results</h2>"
   ]
  },
  {
   "cell_type": "code",
   "execution_count": 18,
   "id": "3c9e5e8a",
   "metadata": {},
   "outputs": [],
   "source": [
    "def append_log(embedding_desc, model, learning_desc, validation):\n",
    "    date_time = datetime.now().strftime(\"%m/%d/%Y, %H:%M:%S\")\n",
    "    data = [[embedding_desc, model.__str__(), learning_desc, validation, date_time]]\n",
    "    df = pandas.read_csv(dir_path + \"results.csv\")\n",
    "    df.loc[len(df.index)] = [''] + data[0]\n",
    "    df = pd.DataFrame(data, columns=columns)\n",
    "    df.to_csv(dir_path + \"results.csv\")"
   ]
  },
  {
   "cell_type": "code",
   "execution_count": null,
   "id": "369e53d3",
   "metadata": {
    "scrolled": true
   },
   "outputs": [],
   "source": [
    "m = nn.Linear(vocab_size, 2)\n",
    "#input = torch.tensor(bow_tensor_bul[0:1].clone().detach(), dtype=torch.float32)\n",
    "output = m(bow_tensor_bul[0:5])\n",
    "print(output)\n",
    "print(output.size())"
   ]
  },
  {
   "cell_type": "markdown",
   "id": "3d1ffc2b",
   "metadata": {},
   "source": [
    "# Reslut plot "
   ]
  },
  {
   "cell_type": "code",
   "execution_count": 119,
   "id": "70f005c9",
   "metadata": {},
   "outputs": [
    {
     "ename": "NameError",
     "evalue": "name 'predicted' is not defined",
     "output_type": "error",
     "traceback": [
      "\u001b[0;31m---------------------------------------------------------------------------\u001b[0m",
      "\u001b[0;31mNameError\u001b[0m                                 Traceback (most recent call last)",
      "\u001b[0;32m/var/folders/85/y194gy196m5gh1smpgnk_7w80000gn/T/ipykernel_61582/2068674869.py\u001b[0m in \u001b[0;36m<module>\u001b[0;34m\u001b[0m\n\u001b[0;32m----> 1\u001b[0;31m \u001b[0mequal\u001b[0m \u001b[0;34m=\u001b[0m \u001b[0mpredicted\u001b[0m\u001b[0;34m[\u001b[0m\u001b[0;34m:\u001b[0m\u001b[0;36m100\u001b[0m\u001b[0;34m]\u001b[0m\u001b[0;34m.\u001b[0m\u001b[0margmax\u001b[0m\u001b[0;34m(\u001b[0m\u001b[0;36m1\u001b[0m\u001b[0;34m)\u001b[0m\u001b[0;34m.\u001b[0m\u001b[0mnumpy\u001b[0m\u001b[0;34m(\u001b[0m\u001b[0;34m)\u001b[0m \u001b[0;34m!=\u001b[0m \u001b[0mnp\u001b[0m\u001b[0;34m.\u001b[0m\u001b[0marray\u001b[0m\u001b[0;34m(\u001b[0m\u001b[0mtrue\u001b[0m\u001b[0;34m[\u001b[0m\u001b[0;34m:\u001b[0m\u001b[0;36m100\u001b[0m\u001b[0;34m]\u001b[0m\u001b[0;34m)\u001b[0m\u001b[0;34m\u001b[0m\u001b[0;34m\u001b[0m\u001b[0m\n\u001b[0m",
      "\u001b[0;31mNameError\u001b[0m: name 'predicted' is not defined"
     ]
    }
   ],
   "source": [
    "equal = predicted[:100].argmax(1).numpy() != np.array(true[:100])"
   ]
  },
  {
   "cell_type": "code",
   "execution_count": null,
   "id": "ad62be41",
   "metadata": {},
   "outputs": [],
   "source": [
    "len(test_items)"
   ]
  },
  {
   "cell_type": "code",
   "execution_count": null,
   "id": "5c1114f7",
   "metadata": {},
   "outputs": [],
   "source": [
    "softmax(model(text))"
   ]
  },
  {
   "cell_type": "code",
   "execution_count": 19,
   "id": "e4f35d8b",
   "metadata": {},
   "outputs": [],
   "source": [
    "items_to_eval = train_items[:1000]\n",
    "col = collate_batch_bow(items_to_eval)\n",
    "true = [item[1] for item in items_to_eval]\n",
    "softmax = nn.Softmax(dim=1)\n",
    "result = model(col[0])\n",
    "predicted = softmax(result)"
   ]
  },
  {
   "cell_type": "code",
   "execution_count": 20,
   "id": "4ab86bfb",
   "metadata": {},
   "outputs": [],
   "source": [
    "data_to_draw = torch.tensor([p[0] - p[1] if t == 0 else p[1] - p[0] for t, p in zip(true, predicted)])\n",
    "data_to_draw = data_to_draw.numpy().tolist()"
   ]
  },
  {
   "cell_type": "code",
   "execution_count": null,
   "id": "97ad3b0a",
   "metadata": {},
   "outputs": [],
   "source": [
    "np.arange(100, step=10)"
   ]
  },
  {
   "cell_type": "code",
   "execution_count": 22,
   "id": "7bb8f547",
   "metadata": {},
   "outputs": [
    {
     "data": {
      "text/plain": [
       "<BarContainer object of 1000 artists>"
      ]
     },
     "execution_count": 22,
     "metadata": {},
     "output_type": "execute_result"
    },
    {
     "data": {
      "image/png": "[encoded data removed]",
      "text/plain": [
       "<Figure size 2000x1000 with 1 Axes>"
      ]
     },
     "metadata": {},
     "output_type": "display_data"
    }
   ],
   "source": [
    "import numpy as np\n",
    "import matplotlib.pyplot as plt\n",
    "\n",
    "rang = range(len(data_to_draw))\n",
    "negative_data_min = [x if x < 0 and x >= -0.5 else 0 for x in data_to_draw]\n",
    "negative_data_max = [x if x < -0.5 else 0 for x in data_to_draw]\n",
    "positive_data_min = [x if x > 0 and x <= 0.5 else 0 for x in data_to_draw]\n",
    "positive_data_max = [x if x > 0.5 else 0 for x in data_to_draw]\n",
    "\n",
    "fig = plt.figure(figsize=(20, 10), dpi=100)\n",
    "plt.xticks(np.arange(len(data_to_draw), step=50))\n",
    "ax = plt.subplot(111)\n",
    "ax.bar(rang, negative_data_min, width=1, color='r', alpha=0.4)\n",
    "ax.bar(rang, negative_data_max, width=1, color='r', alpha=0.8)\n",
    "ax.bar(rang, positive_data_min, width=1, color='g', alpha=0.4)\n",
    "ax.bar(rang, positive_data_max, width=1, color='g', alpha=0.8)\n"
   ]
  },
  {
   "cell_type": "code",
   "execution_count": null,
   "id": "d69ac358",
   "metadata": {},
   "outputs": [],
   "source": [
    "mu, sigma = 100, 15\n",
    "x = mu + sigma * np.random.randn(10000)\n",
    "\n",
    "# the histogram of the data\n",
    "n, bins, patches = plt.hist(x, 6, density=True, facecolor='g', alpha=1)\n",
    "\n",
    "plt.xlabel('Inputs')\n",
    "plt.ylabel('Distance')\n",
    "plt.title('BoW + FF 1')\n",
    "#plt.text(60, .025, r'$\\mu=100,\\ \\sigma=15$')\n",
    "plt.axis([30, 500, -2, 2])\n",
    "plt.grid(True)\n",
    "plt.show()"
   ]
  },
  {
   "cell_type": "code",
   "execution_count": null,
   "id": "3f20916b",
   "metadata": {},
   "outputs": [],
   "source": [
    "gog_text = \"Не только в вашей стране, но и в других странах будут сочинять подражания его пьесам и писать переделки этих пьес. Ученые различных стран напишут подробные исследования его произведений и шаг за шагом постараются проследить его таинственную жизнь. Они докажут вам, что этот человек, который сейчас у вас в руках подает лишь слабые признаки жизни, будет влиять на многих писателей будущих столетий, в том числе на таких, неизвестных вам, но известных мне, как соотечественники мои Грибоедов, Пушкин и Гоголь.\""
   ]
  },
  {
   "cell_type": "code",
   "execution_count": null,
   "id": "ca5dbc4e",
   "metadata": {},
   "outputs": [],
   "source": [
    "gog_input = collate_batch_bow([(gog_text, 0)])"
   ]
  }
 ],
 "metadata": {
  "kernelspec": {
   "display_name": "Python 3 (ipykernel)",
   "language": "python",
   "name": "python3"
  },
  "language_info": {
   "codemirror_mode": {
    "name": "ipython",
    "version": 3
   },
   "file_extension": ".py",
   "mimetype": "text/x-python",
   "name": "python",
   "nbconvert_exporter": "python",
   "pygments_lexer": "ipython3",
   "version": "3.9.13"
  }
 },
 "nbformat": 4,
 "nbformat_minor": 5
}
